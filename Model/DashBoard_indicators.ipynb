{
  "nbformat": 4,
  "nbformat_minor": 0,
  "metadata": {
    "colab": {
      "provenance": []
    },
    "kernelspec": {
      "name": "python3",
      "display_name": "Python 3"
    },
    "language_info": {
      "name": "python"
    }
  },
  "cells": [
    {
      "cell_type": "markdown",
      "source": [
        "Importing Dataset"
      ],
      "metadata": {
        "id": "6SCzpRpxIUji"
      }
    },
    {
      "cell_type": "code",
      "source": [
        "from google.colab import drive\n",
        "drive.mount('/content/drive')"
      ],
      "metadata": {
        "colab": {
          "base_uri": "https://localhost:8080/"
        },
        "id": "ctEejLldFmPX",
        "outputId": "97d8ad14-544e-46ac-e7d3-31e2f2abd274"
      },
      "execution_count": null,
      "outputs": [
        {
          "output_type": "stream",
          "name": "stdout",
          "text": [
            "Drive already mounted at /content/drive; to attempt to forcibly remount, call drive.mount(\"/content/drive\", force_remount=True).\n"
          ]
        }
      ]
    },
    {
      "cell_type": "markdown",
      "source": [
        "Importing libraries"
      ],
      "metadata": {
        "id": "R6CucIQqIh--"
      }
    },
    {
      "cell_type": "code",
      "source": [
        "import numpy as np\n",
        "import tensorflow as tf\n",
        "import matplotlib.pyplot as plt"
      ],
      "metadata": {
        "id": "sz01lJNxIlO8"
      },
      "execution_count": null,
      "outputs": []
    },
    {
      "cell_type": "markdown",
      "source": [
        "Data Preprocessing"
      ],
      "metadata": {
        "id": "qyBj_6h6I0Vi"
      }
    },
    {
      "cell_type": "markdown",
      "source": [
        "Trainng Image preprocessin"
      ],
      "metadata": {
        "id": "isv0ZpiDLIgp"
      }
    },
    {
      "cell_type": "code",
      "source": [
        "training_set = tf.keras.utils.image_dataset_from_directory(\n",
        "    '/content/drive/MyDrive/Dashboard_indicator/Training ',\n",
        "    labels = 'inferred',\n",
        "    label_mode = 'categorical',\n",
        "    class_names = None,\n",
        "    color_mode='rgb',\n",
        "    batch_size =32,\n",
        "    image_size = (64,64),\n",
        "    shuffle = True,\n",
        "    seed = None,\n",
        "    validation_split= None,\n",
        "    subset = None,\n",
        "    interpolation = 'bilinear',\n",
        "    follow_links = False,\n",
        "    crop_to_aspect_ratio = False\n",
        ")"
      ],
      "metadata": {
        "id": "4MOFBlxuI3TN",
        "colab": {
          "base_uri": "https://localhost:8080/"
        },
        "outputId": "cb53aa46-3267-4d05-bf49-9d0f1c02c411"
      },
      "execution_count": null,
      "outputs": [
        {
          "output_type": "stream",
          "name": "stdout",
          "text": [
            "Found 257 files belonging to 29 classes.\n"
          ]
        }
      ]
    },
    {
      "cell_type": "markdown",
      "source": [
        "Validation Image Preprocessing"
      ],
      "metadata": {
        "id": "RQ6B5ARL4_XA"
      }
    },
    {
      "cell_type": "code",
      "source": [
        "validation_set = tf.keras.utils.image_dataset_from_directory(\n",
        "    '/content/drive/MyDrive/Dashboard_indicator/validation',\n",
        "    labels=\"inferred\",\n",
        "    label_mode=\"categorical\",\n",
        "    class_names=None,\n",
        "    color_mode=\"rgb\",\n",
        "    batch_size=32,\n",
        "    image_size=(64, 64),\n",
        "    shuffle=True,\n",
        "    seed=None,\n",
        "    validation_split=None,\n",
        "    subset=None,\n",
        "    interpolation=\"bilinear\",\n",
        "    follow_links=False,\n",
        "    crop_to_aspect_ratio=False\n",
        ")"
      ],
      "metadata": {
        "colab": {
          "base_uri": "https://localhost:8080/"
        },
        "id": "uURe2V1k5DlM",
        "outputId": "07b0036d-2ecf-4863-f9b8-fa75cbe87d46"
      },
      "execution_count": null,
      "outputs": [
        {
          "output_type": "stream",
          "name": "stdout",
          "text": [
            "Found 29 files belonging to 29 classes.\n"
          ]
        }
      ]
    },
    {
      "cell_type": "markdown",
      "source": [
        "Buiding model"
      ],
      "metadata": {
        "id": "NPL_GbCYK38G"
      }
    },
    {
      "cell_type": "code",
      "source": [
        "cnn = tf.keras.models.Sequential()"
      ],
      "metadata": {
        "id": "LCX0EC69K69y"
      },
      "execution_count": null,
      "outputs": []
    },
    {
      "cell_type": "markdown",
      "source": [
        "Building convolution layer"
      ],
      "metadata": {
        "id": "7JE5hobpLkL2"
      }
    },
    {
      "cell_type": "code",
      "source": [
        "cnn.add(tf.keras.layers.Conv2D(filters=64, kernel_size=3, activation='relu', input_shape=[64,64,3]))\n",
        "cnn.add(tf.keras.layers.MaxPool2D(pool_size=2,strides=2))"
      ],
      "metadata": {
        "id": "LB8ZSvliLoTF"
      },
      "execution_count": null,
      "outputs": []
    },
    {
      "cell_type": "code",
      "source": [
        "cnn.add(tf.keras.layers.Conv2D(filters=64, kernel_size=3, activation='relu'))\n",
        "cnn.add(tf.keras.layers.MaxPool2D(pool_size=2,strides=2))"
      ],
      "metadata": {
        "id": "eTHE8ZabM26S"
      },
      "execution_count": null,
      "outputs": []
    },
    {
      "cell_type": "code",
      "source": [
        "cnn.add(tf.keras.layers.Dropout(0.5)) #to avoid overfitting"
      ],
      "metadata": {
        "id": "yr4dzNHONoUP"
      },
      "execution_count": null,
      "outputs": []
    },
    {
      "cell_type": "code",
      "source": [
        "cnn.add(tf.keras.layers.Flatten())"
      ],
      "metadata": {
        "id": "iKkihkKQN0Po"
      },
      "execution_count": null,
      "outputs": []
    },
    {
      "cell_type": "code",
      "source": [
        "cnn.add(tf.keras.layers.Dense(units=128,activation='relu'))"
      ],
      "metadata": {
        "id": "DoW1PCZMN-eW"
      },
      "execution_count": null,
      "outputs": []
    },
    {
      "cell_type": "code",
      "source": [
        "#output Layer\n",
        "cnn.add(tf.keras.layers.Dense(units=29,activation='softmax'))"
      ],
      "metadata": {
        "id": "6dCcR1-AOSkg"
      },
      "execution_count": null,
      "outputs": []
    },
    {
      "cell_type": "markdown",
      "source": [
        "Compiling and training phase"
      ],
      "metadata": {
        "id": "YRyMscgRZvvt"
      }
    },
    {
      "cell_type": "code",
      "source": [
        "cnn.compile(optimizer='rmsprop',loss='categorical_crossentropy',metrics=['accuracy'])"
      ],
      "metadata": {
        "id": "QfhdRuQ5Z1n6"
      },
      "execution_count": null,
      "outputs": []
    },
    {
      "cell_type": "code",
      "source": [
        "training_history = cnn.fit(x=training_set,validation_data=validation_set,epochs=30)"
      ],
      "metadata": {
        "colab": {
          "base_uri": "https://localhost:8080/"
        },
        "id": "NtAouL20a5kP",
        "outputId": "52a161d8-34af-4de5-9e35-84dddf946ff6"
      },
      "execution_count": null,
      "outputs": [
        {
          "output_type": "stream",
          "name": "stdout",
          "text": [
            "Epoch 1/30\n",
            "9/9 [==============================] - 37s 560ms/step - loss: 44.3576 - accuracy: 0.0584 - val_loss: 2.8851 - val_accuracy: 0.2759\n",
            "Epoch 2/30\n",
            "9/9 [==============================] - 3s 236ms/step - loss: 2.9341 - accuracy: 0.2763 - val_loss: 2.1633 - val_accuracy: 0.3793\n",
            "Epoch 3/30\n",
            "9/9 [==============================] - 2s 152ms/step - loss: 2.0529 - accuracy: 0.5058 - val_loss: 3.1894 - val_accuracy: 0.4138\n",
            "Epoch 4/30\n",
            "9/9 [==============================] - 2s 151ms/step - loss: 1.5669 - accuracy: 0.6226 - val_loss: 1.1232 - val_accuracy: 0.6897\n",
            "Epoch 5/30\n",
            "9/9 [==============================] - 2s 148ms/step - loss: 0.9569 - accuracy: 0.7471 - val_loss: 1.9601 - val_accuracy: 0.6207\n",
            "Epoch 6/30\n",
            "9/9 [==============================] - 2s 148ms/step - loss: 0.6752 - accuracy: 0.8210 - val_loss: 2.5980 - val_accuracy: 0.6552\n",
            "Epoch 7/30\n",
            "9/9 [==============================] - 3s 214ms/step - loss: 1.6596 - accuracy: 0.6615 - val_loss: 1.8277 - val_accuracy: 0.6552\n",
            "Epoch 8/30\n",
            "9/9 [==============================] - 2s 149ms/step - loss: 0.6687 - accuracy: 0.8444 - val_loss: 1.4580 - val_accuracy: 0.7586\n",
            "Epoch 9/30\n",
            "9/9 [==============================] - 2s 150ms/step - loss: 0.2683 - accuracy: 0.9377 - val_loss: 1.6376 - val_accuracy: 0.7586\n",
            "Epoch 10/30\n",
            "9/9 [==============================] - 2s 147ms/step - loss: 0.2962 - accuracy: 0.9339 - val_loss: 1.8057 - val_accuracy: 0.8276\n",
            "Epoch 11/30\n",
            "9/9 [==============================] - 3s 189ms/step - loss: 0.5528 - accuracy: 0.8872 - val_loss: 1.1566 - val_accuracy: 0.7931\n",
            "Epoch 12/30\n",
            "9/9 [==============================] - 2s 147ms/step - loss: 0.7325 - accuracy: 0.8949 - val_loss: 1.5353 - val_accuracy: 0.7931\n",
            "Epoch 13/30\n",
            "9/9 [==============================] - 2s 152ms/step - loss: 0.4319 - accuracy: 0.9377 - val_loss: 3.6551 - val_accuracy: 0.7241\n",
            "Epoch 14/30\n",
            "9/9 [==============================] - 2s 149ms/step - loss: 0.7460 - accuracy: 0.8794 - val_loss: 4.0341 - val_accuracy: 0.6207\n",
            "Epoch 15/30\n",
            "9/9 [==============================] - 2s 175ms/step - loss: 0.7849 - accuracy: 0.8872 - val_loss: 1.3056 - val_accuracy: 0.8621\n",
            "Epoch 16/30\n",
            "9/9 [==============================] - 2s 148ms/step - loss: 0.1591 - accuracy: 0.9611 - val_loss: 2.1117 - val_accuracy: 0.7931\n",
            "Epoch 17/30\n",
            "9/9 [==============================] - 2s 149ms/step - loss: 0.0881 - accuracy: 0.9805 - val_loss: 1.2291 - val_accuracy: 0.7931\n",
            "Epoch 18/30\n",
            "9/9 [==============================] - 2s 147ms/step - loss: 0.0542 - accuracy: 0.9922 - val_loss: 2.6291 - val_accuracy: 0.7931\n",
            "Epoch 19/30\n",
            "9/9 [==============================] - 2s 151ms/step - loss: 2.0722 - accuracy: 0.7938 - val_loss: 2.3538 - val_accuracy: 0.7931\n",
            "Epoch 20/30\n",
            "9/9 [==============================] - 2s 150ms/step - loss: 0.0923 - accuracy: 0.9805 - val_loss: 2.6457 - val_accuracy: 0.8276\n",
            "Epoch 21/30\n",
            "9/9 [==============================] - 2s 151ms/step - loss: 0.0574 - accuracy: 0.9922 - val_loss: 1.9510 - val_accuracy: 0.8276\n",
            "Epoch 22/30\n",
            "9/9 [==============================] - 2s 151ms/step - loss: 0.1668 - accuracy: 0.9650 - val_loss: 5.4035 - val_accuracy: 0.7241\n",
            "Epoch 23/30\n",
            "9/9 [==============================] - 2s 147ms/step - loss: 1.2696 - accuracy: 0.8949 - val_loss: 2.3467 - val_accuracy: 0.8966\n",
            "Epoch 24/30\n",
            "9/9 [==============================] - 2s 164ms/step - loss: 0.7232 - accuracy: 0.9183 - val_loss: 2.0580 - val_accuracy: 0.8276\n",
            "Epoch 25/30\n",
            "9/9 [==============================] - 2s 149ms/step - loss: 0.2179 - accuracy: 0.9805 - val_loss: 1.7791 - val_accuracy: 0.8276\n",
            "Epoch 26/30\n",
            "9/9 [==============================] - 2s 151ms/step - loss: 0.0323 - accuracy: 0.9922 - val_loss: 1.7817 - val_accuracy: 0.8276\n",
            "Epoch 27/30\n",
            "9/9 [==============================] - 2s 148ms/step - loss: 0.0094 - accuracy: 0.9961 - val_loss: 1.7548 - val_accuracy: 0.8276\n",
            "Epoch 28/30\n",
            "9/9 [==============================] - 2s 151ms/step - loss: 0.0024 - accuracy: 1.0000 - val_loss: 1.7526 - val_accuracy: 0.8621\n",
            "Epoch 29/30\n",
            "9/9 [==============================] - 2s 201ms/step - loss: 0.0621 - accuracy: 0.9844 - val_loss: 4.5465 - val_accuracy: 0.7931\n",
            "Epoch 30/30\n",
            "9/9 [==============================] - 2s 148ms/step - loss: 8.1964 - accuracy: 0.7237 - val_loss: 3.6974 - val_accuracy: 0.7931\n"
          ]
        }
      ]
    },
    {
      "cell_type": "markdown",
      "source": [
        "saving model"
      ],
      "metadata": {
        "id": "fdPyLcZicVTf"
      }
    },
    {
      "cell_type": "code",
      "source": [
        "cnn.save('trained_model.h5')"
      ],
      "metadata": {
        "colab": {
          "base_uri": "https://localhost:8080/"
        },
        "id": "Uyp6iwvwcX3p",
        "outputId": "a62f3d9d-fcf0-4fcc-95f6-0a828fd2bea5"
      },
      "execution_count": null,
      "outputs": [
        {
          "output_type": "stream",
          "name": "stderr",
          "text": [
            "/usr/local/lib/python3.10/dist-packages/keras/src/engine/training.py:3103: UserWarning: You are saving your model as an HDF5 file via `model.save()`. This file format is considered legacy. We recommend using instead the native Keras format, e.g. `model.save('my_model.keras')`.\n",
            "  saving_api.save_model(\n"
          ]
        }
      ]
    },
    {
      "cell_type": "code",
      "source": [
        "training_history.history"
      ],
      "metadata": {
        "colab": {
          "base_uri": "https://localhost:8080/"
        },
        "id": "LrOiEexJdBgm",
        "outputId": "a7846d99-6452-4f16-9ad1-791b58064666"
      },
      "execution_count": null,
      "outputs": [
        {
          "output_type": "execute_result",
          "data": {
            "text/plain": [
              "{'loss': [44.35755157470703,\n",
              "  2.934087038040161,\n",
              "  2.052891969680786,\n",
              "  1.5668736696243286,\n",
              "  0.9568551182746887,\n",
              "  0.6752203702926636,\n",
              "  1.659613013267517,\n",
              "  0.6686732769012451,\n",
              "  0.2683306932449341,\n",
              "  0.296151727437973,\n",
              "  0.5528486371040344,\n",
              "  0.7325214743614197,\n",
              "  0.43188127875328064,\n",
              "  0.7459509372711182,\n",
              "  0.7849121689796448,\n",
              "  0.1590520292520523,\n",
              "  0.08811620622873306,\n",
              "  0.054248981177806854,\n",
              "  2.0721638202667236,\n",
              "  0.092314712703228,\n",
              "  0.05744168907403946,\n",
              "  0.16680695116519928,\n",
              "  1.2696341276168823,\n",
              "  0.7232145071029663,\n",
              "  0.21788112819194794,\n",
              "  0.03233383595943451,\n",
              "  0.009387517347931862,\n",
              "  0.0023854614701122046,\n",
              "  0.06208428367972374,\n",
              "  8.196433067321777],\n",
              " 'accuracy': [0.05836575850844383,\n",
              "  0.27626457810401917,\n",
              "  0.505836546421051,\n",
              "  0.6225680708885193,\n",
              "  0.7470816969871521,\n",
              "  0.8210116624832153,\n",
              "  0.661478579044342,\n",
              "  0.844357967376709,\n",
              "  0.9377431869506836,\n",
              "  0.9338521361351013,\n",
              "  0.887159526348114,\n",
              "  0.8949416279792786,\n",
              "  0.9377431869506836,\n",
              "  0.8793774247169495,\n",
              "  0.887159526348114,\n",
              "  0.9610894918441772,\n",
              "  0.9805447459220886,\n",
              "  0.9922178983688354,\n",
              "  0.7937743067741394,\n",
              "  0.9805447459220886,\n",
              "  0.9922178983688354,\n",
              "  0.9649805426597595,\n",
              "  0.8949416279792786,\n",
              "  0.9182879328727722,\n",
              "  0.9805447459220886,\n",
              "  0.9922178983688354,\n",
              "  0.9961089491844177,\n",
              "  1.0,\n",
              "  0.9844357967376709,\n",
              "  0.7237353920936584],\n",
              " 'val_loss': [2.8850793838500977,\n",
              "  2.163254499435425,\n",
              "  3.189440965652466,\n",
              "  1.1232134103775024,\n",
              "  1.9601000547409058,\n",
              "  2.5980100631713867,\n",
              "  1.8277177810668945,\n",
              "  1.457968831062317,\n",
              "  1.6376025676727295,\n",
              "  1.8056870698928833,\n",
              "  1.1565881967544556,\n",
              "  1.535269856452942,\n",
              "  3.6551334857940674,\n",
              "  4.0340986251831055,\n",
              "  1.3055933713912964,\n",
              "  2.111660957336426,\n",
              "  1.229055643081665,\n",
              "  2.629063844680786,\n",
              "  2.3537538051605225,\n",
              "  2.645716667175293,\n",
              "  1.951026201248169,\n",
              "  5.4035491943359375,\n",
              "  2.346696376800537,\n",
              "  2.0579771995544434,\n",
              "  1.7791298627853394,\n",
              "  1.7816765308380127,\n",
              "  1.7547730207443237,\n",
              "  1.7526370286941528,\n",
              "  4.546472072601318,\n",
              "  3.69740629196167],\n",
              " 'val_accuracy': [0.27586206793785095,\n",
              "  0.37931033968925476,\n",
              "  0.4137931168079376,\n",
              "  0.6896551847457886,\n",
              "  0.6206896305084229,\n",
              "  0.6551724076271057,\n",
              "  0.6551724076271057,\n",
              "  0.7586206793785095,\n",
              "  0.7586206793785095,\n",
              "  0.8275862336158752,\n",
              "  0.7931034564971924,\n",
              "  0.7931034564971924,\n",
              "  0.7241379022598267,\n",
              "  0.6206896305084229,\n",
              "  0.8620689511299133,\n",
              "  0.7931034564971924,\n",
              "  0.7931034564971924,\n",
              "  0.7931034564971924,\n",
              "  0.7931034564971924,\n",
              "  0.8275862336158752,\n",
              "  0.8275862336158752,\n",
              "  0.7241379022598267,\n",
              "  0.8965517282485962,\n",
              "  0.8275862336158752,\n",
              "  0.8275862336158752,\n",
              "  0.8275862336158752,\n",
              "  0.8275862336158752,\n",
              "  0.8620689511299133,\n",
              "  0.7931034564971924,\n",
              "  0.7931034564971924]}"
            ]
          },
          "metadata": {},
          "execution_count": 15
        }
      ]
    },
    {
      "cell_type": "code",
      "source": [
        "#recoding history\n",
        "import json\n",
        "with open('training_hist.json','w') as f:\n",
        "  json.dump(training_history.history,f)"
      ],
      "metadata": {
        "id": "JezxR3RCcuIJ"
      },
      "execution_count": null,
      "outputs": []
    },
    {
      "cell_type": "code",
      "source": [
        "print(training_history.history.keys())"
      ],
      "metadata": {
        "colab": {
          "base_uri": "https://localhost:8080/"
        },
        "id": "2_Nt-7V0dhnu",
        "outputId": "7725e68f-595a-4480-d9e2-20afb7d5ac40"
      },
      "execution_count": null,
      "outputs": [
        {
          "output_type": "stream",
          "name": "stdout",
          "text": [
            "dict_keys(['loss', 'accuracy', 'val_loss', 'val_accuracy'])\n"
          ]
        }
      ]
    },
    {
      "cell_type": "markdown",
      "source": [
        "Calculating accuracy of model achived on validation set"
      ],
      "metadata": {
        "id": "-SINvQvnd0cB"
      }
    },
    {
      "cell_type": "code",
      "source": [
        "print(\"Validation set accuracy: {} %\".format(training_history.history['val_accuracy'][-1]*100))"
      ],
      "metadata": {
        "colab": {
          "base_uri": "https://localhost:8080/"
        },
        "id": "O1ZF6_27dvov",
        "outputId": "13c3314f-fa8e-416f-d7e9-893f70d79f86"
      },
      "execution_count": null,
      "outputs": [
        {
          "output_type": "stream",
          "name": "stdout",
          "text": [
            "Validation set accuracy: 79.31034564971924 %\n"
          ]
        }
      ]
    },
    {
      "cell_type": "markdown",
      "source": [
        "Accuracy Visualization"
      ],
      "metadata": {
        "id": "OZbx7ARdV8He"
      }
    },
    {
      "cell_type": "markdown",
      "source": [
        "Training visualization"
      ],
      "metadata": {
        "id": "7mKYl7_KWAEL"
      }
    },
    {
      "cell_type": "code",
      "source": [
        "epochs = [i for i in range(1,31)]\n",
        "plt.plot(epochs,training_history.history['accuracy'], color='red')\n",
        "plt.xlabel('Epochs')\n",
        "plt.ylabel('Traiining Accuracy')\n",
        "plt.title('Visualization of Training Accuracy Result')\n",
        "plt.show()"
      ],
      "metadata": {
        "colab": {
          "base_uri": "https://localhost:8080/",
          "height": 472
        },
        "id": "if7YG1ZrWDYf",
        "outputId": "f96028b1-e9ca-469c-9d69-bc68363ed16d"
      },
      "execution_count": null,
      "outputs": [
        {
          "output_type": "display_data",
          "data": {
            "text/plain": [
              "<Figure size 640x480 with 1 Axes>"
            ],
            "image/png": "[encoded data removed]"
          },
          "metadata": {}
        }
      ]
    },
    {
      "cell_type": "markdown",
      "source": [
        "Validation accuracy"
      ],
      "metadata": {
        "id": "QrqW9mR1bLqF"
      }
    },
    {
      "cell_type": "code",
      "source": [
        "plt.plot(epochs,training_history.history['val_accuracy'],color='blue')\n",
        "plt.xlabel('No. of Epochs')\n",
        "plt.ylabel('Validation Accuracy')\n",
        "plt.title('Visualization of Validation Accuracy Result')\n",
        "plt.show()"
      ],
      "metadata": {
        "colab": {
          "base_uri": "https://localhost:8080/",
          "height": 472
        },
        "id": "4UG9QBF4bPhg",
        "outputId": "ab46e37c-892a-4957-a601-158cbda6c384"
      },
      "execution_count": null,
      "outputs": [
        {
          "output_type": "display_data",
          "data": {
            "text/plain": [
              "<Figure size 640x480 with 1 Axes>"
            ],
            "image/png": "[encoded data removed]"
          },
          "metadata": {}
        }
      ]
    }
  ]
}